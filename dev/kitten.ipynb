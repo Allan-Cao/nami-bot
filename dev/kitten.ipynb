{
 "cells": [
  {
   "cell_type": "code",
   "execution_count": 1,
   "id": "97b7c14a",
   "metadata": {},
   "outputs": [],
   "source": [
    "import sqlite3\n",
    "connection = sqlite3.connect(\":memory:\")"
   ]
  },
  {
   "cell_type": "code",
   "execution_count": 33,
   "id": "6e2cb217",
   "metadata": {},
   "outputs": [
    {
     "ename": "OperationalError",
     "evalue": "table kitten already exists",
     "output_type": "error",
     "traceback": [
      "\u001b[1;31m---------------------------------------------------------------------------\u001b[0m",
      "\u001b[1;31mOperationalError\u001b[0m                          Traceback (most recent call last)",
      "\u001b[1;32m<ipython-input-33-4e0994439a35>\u001b[0m in \u001b[0;36m<module>\u001b[1;34m\u001b[0m\n\u001b[0;32m      1\u001b[0m \u001b[0mcursor\u001b[0m \u001b[1;33m=\u001b[0m \u001b[0mconnection\u001b[0m\u001b[1;33m.\u001b[0m\u001b[0mcursor\u001b[0m\u001b[1;33m(\u001b[0m\u001b[1;33m)\u001b[0m\u001b[1;33m\u001b[0m\u001b[1;33m\u001b[0m\u001b[0m\n\u001b[1;32m----> 2\u001b[1;33m \u001b[0mcursor\u001b[0m\u001b[1;33m.\u001b[0m\u001b[0mexecute\u001b[0m\u001b[1;33m(\u001b[0m\u001b[1;34m\"CREATE TABLE kitten (name TEXT, id INTEGER, kitten_number INTEGER)\"\u001b[0m\u001b[1;33m)\u001b[0m\u001b[1;33m\u001b[0m\u001b[1;33m\u001b[0m\u001b[0m\n\u001b[0m",
      "\u001b[1;31mOperationalError\u001b[0m: table kitten already exists"
     ]
    }
   ],
   "source": [
    "cursor = connection.cursor()\n",
    "cursor.execute(\"CREATE TABLE kitten (name TEXT, id INTEGER, kitten_number INTEGER)\")"
   ]
  },
  {
   "cell_type": "code",
   "execution_count": 20,
   "id": "52be9c7f",
   "metadata": {},
   "outputs": [
    {
     "data": {
      "text/plain": [
       "[]"
      ]
     },
     "execution_count": 20,
     "metadata": {},
     "output_type": "execute_result"
    }
   ],
   "source": [
    "cursor.execute(\"SELECT * FROM kitten\").fetchall()"
   ]
  },
  {
   "cell_type": "code",
   "execution_count": 9,
   "id": "f0fe471d",
   "metadata": {},
   "outputs": [
    {
     "ename": "OperationalError",
     "evalue": "near \"kitten_number\": syntax error",
     "output_type": "error",
     "traceback": [
      "\u001b[1;31m---------------------------------------------------------------------------\u001b[0m",
      "\u001b[1;31mOperationalError\u001b[0m                          Traceback (most recent call last)",
      "\u001b[1;32m<ipython-input-9-308b1239da99>\u001b[0m in \u001b[0;36m<module>\u001b[1;34m\u001b[0m\n\u001b[0;32m      2\u001b[0m \u001b[0mkitten_id\u001b[0m \u001b[1;33m=\u001b[0m \u001b[1;36m12345678\u001b[0m\u001b[1;33m\u001b[0m\u001b[1;33m\u001b[0m\u001b[0m\n\u001b[0;32m      3\u001b[0m \u001b[0mkitten_number\u001b[0m \u001b[1;33m=\u001b[0m \u001b[1;36m0\u001b[0m\u001b[1;33m\u001b[0m\u001b[1;33m\u001b[0m\u001b[0m\n\u001b[1;32m----> 4\u001b[1;33m cursor.execute(\n\u001b[0m\u001b[0;32m      5\u001b[0m     \u001b[1;34m\"UPDATE kitten SET name = ? kitten_number = ? WHERE id = ?\"\u001b[0m\u001b[1;33m,\u001b[0m\u001b[1;33m\u001b[0m\u001b[1;33m\u001b[0m\u001b[0m\n\u001b[0;32m      6\u001b[0m     \u001b[1;33m(\u001b[0m\u001b[0mkitten_name\u001b[0m\u001b[1;33m,\u001b[0m \u001b[0mkitten_number\u001b[0m\u001b[1;33m,\u001b[0m \u001b[0mkitten_id\u001b[0m\u001b[1;33m)\u001b[0m\u001b[1;33m\u001b[0m\u001b[1;33m\u001b[0m\u001b[0m\n",
      "\u001b[1;31mOperationalError\u001b[0m: near \"kitten_number\": syntax error"
     ]
    }
   ],
   "source": [
    "kitten_name = \"TauPiPhi\"\n",
    "kitten_id = 12345678\n",
    "kitten_number = 0\n",
    "cursor.execute(\n",
    "    \"UPDATE kitten SET name = ? kitten_number = ? WHERE id = ?\",\n",
    "    (kitten_name, kitten_number, kitten_id)\n",
    ")"
   ]
  },
  {
   "cell_type": "code",
   "execution_count": 46,
   "id": "29cdb842",
   "metadata": {},
   "outputs": [
    {
     "data": {
      "text/plain": [
       "10"
      ]
     },
     "execution_count": 46,
     "metadata": {},
     "output_type": "execute_result"
    }
   ],
   "source": [
    "rows = cursor.execute(\"SELECT kitten_number FROM kitten\").fetchall()\n"
   ]
  },
  {
   "cell_type": "code",
   "execution_count": 63,
   "id": "3e20cf7a",
   "metadata": {},
   "outputs": [
    {
     "data": {
      "text/plain": [
       "3"
      ]
     },
     "execution_count": 63,
     "metadata": {},
     "output_type": "execute_result"
    }
   ],
   "source": [
    "temp1 = list(range(0,max([i[0] for i in rows])+1))\n",
    "temp2 = [-1,0,1,2,10]\n",
    "min(list(set(temp1) - set(temp2)))"
   ]
  },
  {
   "cell_type": "code",
   "execution_count": 42,
   "id": "b641b535",
   "metadata": {},
   "outputs": [
    {
     "data": {
      "text/plain": [
       "(10,)"
      ]
     },
     "execution_count": 42,
     "metadata": {},
     "output_type": "execute_result"
    }
   ],
   "source": [
    "max(rows)"
   ]
  },
  {
   "cell_type": "code",
   "execution_count": 69,
   "id": "78100696",
   "metadata": {},
   "outputs": [
    {
     "name": "stdout",
     "output_type": "stream",
     "text": [
      "('TauPiPhi', 12345678, 0)\n",
      "False\n"
     ]
    }
   ],
   "source": [
    "kitten = cursor.execute(\"SELECT name, id, kitten_number FROM kitten WHERE id == 12345678\").fetchone()\n",
    "print(kitten)\n",
    "print(kitten==None)"
   ]
  },
  {
   "cell_type": "code",
   "execution_count": 26,
   "id": "06722bd8",
   "metadata": {},
   "outputs": [
    {
     "data": {
      "text/plain": [
       "<sqlite3.Cursor at 0x1ccb0112a40>"
      ]
     },
     "execution_count": 26,
     "metadata": {},
     "output_type": "execute_result"
    }
   ],
   "source": [
    "kitten_name = \"TauPiPhi\"\n",
    "kitten_id = 123456789999\n",
    "kitten_number = 10\n",
    "cursor.execute(\"INSERT INTO kitten VALUES (?, ?, ?)\",\n",
    "              (kitten_name, kitten_id, kitten_number)\n",
    ")"
   ]
  },
  {
   "cell_type": "code",
   "execution_count": 19,
   "id": "66679594",
   "metadata": {},
   "outputs": [
    {
     "data": {
      "text/plain": [
       "<sqlite3.Cursor at 0x1ccb0112a40>"
      ]
     },
     "execution_count": 19,
     "metadata": {},
     "output_type": "execute_result"
    }
   ],
   "source": [
    "kitten_id = 12345678\n",
    "cursor.execute(\n",
    "    \"DELETE FROM kitten WHERE id = ?\",\n",
    "    (kitten_id,)\n",
    ")"
   ]
  },
  {
   "cell_type": "code",
   "execution_count": null,
   "id": "e03f6f20",
   "metadata": {},
   "outputs": [],
   "source": []
  }
 ],
 "metadata": {
  "kernelspec": {
   "display_name": "Python 3",
   "language": "python",
   "name": "python3"
  },
  "language_info": {
   "codemirror_mode": {
    "name": "ipython",
    "version": 3
   },
   "file_extension": ".py",
   "mimetype": "text/x-python",
   "name": "python",
   "nbconvert_exporter": "python",
   "pygments_lexer": "ipython3",
   "version": "3.9.5"
  }
 },
 "nbformat": 4,
 "nbformat_minor": 5
}
